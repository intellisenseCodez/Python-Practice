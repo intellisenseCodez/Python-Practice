{
 "cells": [
  {
   "cell_type": "markdown",
   "metadata": {},
   "source": [
    "# <u>Data Science Python Practice Repository</u>\n",
    "\n",
    "\n",
    "Welcome to the Data Science Python Practice Repository! This repository is designed to provide a platform for practicing Python programming in the field of data science. It offers a wide range of code snippets and exercises to help you enhance your Python skills. far\n",
    "\n",
    "**Python so far**\n",
    "- Data types and Data Structure\n",
    "- Control Flow: Conditional and Loops\n",
    "- Functions."
   ]
  },
  {
   "cell_type": "markdown",
   "metadata": {},
   "source": [
    "## Exercise 1\n",
    "\n",
    "What is 7 to the power of 4?"
   ]
  },
  {
   "cell_type": "code",
   "execution_count": 10,
   "metadata": {},
   "outputs": [
    {
     "data": {
      "text/plain": [
       "2401"
      ]
     },
     "execution_count": 10,
     "metadata": {},
     "output_type": "execute_result"
    }
   ],
   "source": [
    "# provide answer below\n",
    "\n",
    "# 7 * 7 * 7 * 7\n",
    "7 ** 4"
   ]
  },
  {
   "cell_type": "code",
   "execution_count": 29,
   "metadata": {},
   "outputs": [
    {
     "name": "stdout",
     "output_type": "stream",
     "text": [
      "Power: 2401.0\n",
      "Square root: 5.0\n"
     ]
    }
   ],
   "source": [
    "# python modules: math.py\n",
    "\n",
    "# import math\n",
    "from math import pow, sqrt, lcm\n",
    "\n",
    "print(f\"Power: {pow(7, 4)}\")\n",
    "print(f\"Square root: {sqrt(25)}\")"
   ]
  },
  {
   "cell_type": "code",
   "execution_count": 35,
   "metadata": {},
   "outputs": [
    {
     "name": "stdout",
     "output_type": "stream",
     "text": [
      "LCM: 60\n"
     ]
    }
   ],
   "source": [
    "print(f\"LCM: {lcm(1,2,3,4,5,6)}\")"
   ]
  },
  {
   "cell_type": "markdown",
   "metadata": {},
   "source": [
    "## Exercise 2\n",
    "\n",
    "Split this string:\n",
    "\n",
    "greeting = \"Hi there Sam!\"\n",
    "\n",
    "into a list."
   ]
  },
  {
   "cell_type": "code",
   "execution_count": 41,
   "metadata": {},
   "outputs": [
    {
     "name": "stdout",
     "output_type": "stream",
     "text": [
      "['Hi,', 'dear', 'sam!']\n",
      "['12', '12', '1990']\n"
     ]
    }
   ],
   "source": [
    "# provide answer here\n",
    "\n",
    "greeting = \"Hi, dear sam!\"\n",
    "date = \"12/12/1990\"\n",
    "\n",
    "print(greeting.split(\" \"))\n",
    "\n",
    "print(date.split(\"/\"))"
   ]
  },
  {
   "cell_type": "code",
   "execution_count": 47,
   "metadata": {},
   "outputs": [
    {
     "name": "stdout",
     "output_type": "stream",
     "text": [
      "['12', '12', '1990']\n",
      "Day: 12\n",
      "Month: 12\n",
      "Year: 1990\n"
     ]
    }
   ],
   "source": [
    "date = \"12/12/1990\"\n",
    "\n",
    "# step 1: split the date\n",
    "split_date = date.split(\"/\")\n",
    "print(split_date)\n",
    "\n",
    "# step 2: extract the day\n",
    "day = split_date[0]  # indexing\n",
    "print(f\"Day: {day}\")\n",
    "\n",
    "# step 3: extract the month\n",
    "month = split_date[1] \n",
    "print(f\"Month: {month}\")\n",
    "\n",
    "# step 3: extract the year\n",
    "year = split_date[2] \n",
    "print(f\"Year: {year}\")"
   ]
  },
  {
   "cell_type": "code",
   "execution_count": 23,
   "metadata": {},
   "outputs": [],
   "source": [
    "# split_date\n",
    "# type hinting\n",
    "\n",
    "def split_date(date: str) -> dict:\n",
    "    \"\"\"\n",
    "    this function is capable of spliting \n",
    "    a date format.\n",
    "    example: input = \"12/12/1990\"\n",
    "              output = {\"Day\": 12, \"Month\": 12, \"Year\": 1990}\n",
    "    \"\"\"\n",
    "    # loop through the date string to detect the delimiter\n",
    "    for char in date:\n",
    "        if char.isnumeric() == False:\n",
    "            delim = char\n",
    "            \n",
    "    # split the date by the delimiter \n",
    "    split_date = date.split(delim)\n",
    "    formatted_date = {\"day\":split_date[0],\n",
    "                      \"month\":split_date[1],\n",
    "                      \"year\":split_date[2]\n",
    "                     }\n",
    "    \n",
    "    return formatted_date"
   ]
  },
  {
   "cell_type": "code",
   "execution_count": 33,
   "metadata": {},
   "outputs": [
    {
     "name": "stdin",
     "output_type": "stream",
     "text": [
      "Enter a date '12/12/1996':  2/12/1223\n"
     ]
    },
    {
     "name": "stdout",
     "output_type": "stream",
     "text": [
      "Your formatted date is: {'day': '2', 'month': '12', 'year': '1223'}\n"
     ]
    }
   ],
   "source": [
    "user_date = input(\"Enter a date '12/12/1996': \")\n",
    "\n",
    "result = split_date(date=user_date)\n",
    "print(f\"Your formatted date is: {result}\")"
   ]
  },
  {
   "cell_type": "markdown",
   "metadata": {},
   "source": [
    "## Exercise 3\n",
    "\n",
    "Given the variables:\n",
    "\n",
    "planet = \"Earth\"\n",
    "diameter = 12742\n",
    "\n",
    "Use .format() to print the following string: The diameter of Earth is 12742 kilometers."
   ]
  },
  {
   "cell_type": "code",
   "execution_count": 3,
   "metadata": {},
   "outputs": [],
   "source": [
    "# provide answer below\n",
    "\n",
    "planet = \"Earth\"\n",
    "diameter = 12742\n"
   ]
  },
  {
   "cell_type": "code",
   "execution_count": 65,
   "metadata": {},
   "outputs": [
    {
     "name": "stdout",
     "output_type": "stream",
     "text": [
      "Hello, john. Congratulation on your application to canada.\n",
      "Hello, john. Congratulation on your application to canada.\n"
     ]
    }
   ],
   "source": [
    "name=\"john\"\n",
    "\n",
    "print(\"Hello, {}. Congratulation on your application to canada.\".format(name, school, age))\n",
    "\n",
    "print(f\"Hello, {name}. Congratulation on your application to canada. {school}, {age} \")\n"
   ]
  },
  {
   "cell_type": "markdown",
   "metadata": {},
   "source": [
    "## Exercise 4\n",
    "\n",
    "Create a function that grabs the email website domain from a string in the form: \n",
    "So for example, passing \"user@domain.com\" would return: domain.com"
   ]
  },
  {
   "cell_type": "code",
   "execution_count": 81,
   "metadata": {},
   "outputs": [
    {
     "name": "stdout",
     "output_type": "stream",
     "text": [
      "codarhq.com\n",
      "google.com\n",
      "example.com\n"
     ]
    }
   ],
   "source": [
    "#  input: info@codarhq.com\n",
    "#  output: codarhq.com\n",
    "\n",
    "\n",
    "def extract_domain(email):\n",
    "    pos = email.index(\"@\")\n",
    "    start = pos + 1\n",
    "    return email[start:]\n",
    "\n",
    "print(extract_domain(\"info@codarhq.com\"))\n",
    "print(extract_domain(\"customers@google.com\"))\n",
    "print(extract_domain(\"ola@example.com\"))\n"
   ]
  },
  {
   "cell_type": "code",
   "execution_count": 83,
   "metadata": {},
   "outputs": [
    {
     "name": "stdout",
     "output_type": "stream",
     "text": [
      "abc.com\n"
     ]
    }
   ],
   "source": [
    "def spillter(email):\n",
    "    return email.split(\"@\")[1]\n",
    "\n",
    "email = \"info@abc.com\"\n",
    "\n",
    "print(spillter(email))"
   ]
  },
  {
   "cell_type": "code",
   "execution_count": 87,
   "metadata": {},
   "outputs": [
    {
     "data": {
      "text/plain": [
       "'codarhq.com'"
      ]
     },
     "execution_count": 87,
     "metadata": {},
     "output_type": "execute_result"
    }
   ],
   "source": [
    "\"info@codarhq.com\".split(\"@\")[1]"
   ]
  },
  {
   "cell_type": "code",
   "execution_count": null,
   "metadata": {},
   "outputs": [],
   "source": []
  },
  {
   "cell_type": "markdown",
   "metadata": {},
   "source": [
    "## Exercise 5\n",
    "\n",
    "Create a function that counts the number of times the word \"dog\" occurs in a string. \n",
    "\n",
    "input: This dog runs faster than the other dog dude!\n",
    "output: 2"
   ]
  },
  {
   "cell_type": "code",
   "execution_count": 4,
   "metadata": {},
   "outputs": [],
   "source": [
    "# provide answer below"
   ]
  },
  {
   "cell_type": "markdown",
   "metadata": {},
   "source": [
    "## Exercise 6\n",
    "\n",
    "Create a program that asks the user to enter their name and their age. Print out a message addressed to them that tells them the year that they will turn 100 years old."
   ]
  },
  {
   "cell_type": "code",
   "execution_count": 5,
   "metadata": {},
   "outputs": [],
   "source": [
    "# provide answer below"
   ]
  },
  {
   "cell_type": "markdown",
   "metadata": {},
   "source": [
    "## Exercise 7\n",
    "\n",
    "Ask the user for a number. Depending on whether the number is even or odd, print out an appropriate message to the user. Hint: how does an even / odd number react differently when divided by 2?\n",
    "\n",
    "Extras:\n",
    "\n",
    "1. If the number is a multiple of 4, print out a different message.\n",
    "2. Ask the user for two numbers: one number to check (call it num) and one number to divide by (check). If check divides evenly into num, tell that to the user. If not, print a different appropriate message."
   ]
  },
  {
   "cell_type": "code",
   "execution_count": 6,
   "metadata": {},
   "outputs": [],
   "source": [
    "# provide answer below"
   ]
  },
  {
   "cell_type": "markdown",
   "metadata": {},
   "source": [
    "## Exercise 8\n",
    "\n",
    "Take a list, say for example this one:\n",
    "\n",
    "`a = [1, 1, 2, 3, 5, 8, 13, 21, 34, 55, 89]`\n",
    "\n",
    "and write a program that prints out all the elements of the list that are less than 5."
   ]
  },
  {
   "cell_type": "code",
   "execution_count": 7,
   "metadata": {},
   "outputs": [],
   "source": [
    "# provide answer below"
   ]
  },
  {
   "cell_type": "markdown",
   "metadata": {},
   "source": [
    "## Exercise 9\n",
    "\n",
    "Create a program that asks the user for a number and then prints out a list of all the divisors of that number. (If you don’t know what a divisor is, it is a number that divides evenly into another number. For example, 13 is a divisor of 26 because 26 / 13 has no remainder.)"
   ]
  },
  {
   "cell_type": "code",
   "execution_count": 8,
   "metadata": {},
   "outputs": [],
   "source": [
    "# provide answer below"
   ]
  },
  {
   "cell_type": "markdown",
   "metadata": {},
   "source": [
    "## Exercise 10\n",
    "\n",
    "Ask the user for a string and print out whether this string is a palindrome or not. (A palindrome is a string that reads the same forwards and backwards.)"
   ]
  },
  {
   "cell_type": "code",
   "execution_count": 9,
   "metadata": {},
   "outputs": [],
   "source": [
    "# provide answer below"
   ]
  },
  {
   "cell_type": "markdown",
   "metadata": {},
   "source": [
    "## Exercise 11\n",
    "\n",
    "Create a dictionary (in your file) of names and birthdays. When you run your program it should ask the user to enter a name, and return the birthday of that person back to them. The interaction should look something like this:"
   ]
  },
  {
   "cell_type": "code",
   "execution_count": 10,
   "metadata": {},
   "outputs": [],
   "source": [
    "# provide answer below"
   ]
  },
  {
   "cell_type": "code",
   "execution_count": null,
   "metadata": {},
   "outputs": [],
   "source": []
  }
 ],
 "metadata": {
  "kernelspec": {
   "display_name": "Python 3 (ipykernel)",
   "language": "python",
   "name": "python3"
  },
  "language_info": {
   "codemirror_mode": {
    "name": "ipython",
    "version": 3
   },
   "file_extension": ".py",
   "mimetype": "text/x-python",
   "name": "python",
   "nbconvert_exporter": "python",
   "pygments_lexer": "ipython3",
   "version": "3.11.7"
  }
 },
 "nbformat": 4,
 "nbformat_minor": 4
}
